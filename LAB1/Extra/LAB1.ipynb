{
  "nbformat": 4,
  "nbformat_minor": 0,
  "metadata": {
    "colab": {
      "provenance": [],
      "collapsed_sections": [
        "z-cnbT5V-ltY"
      ]
    },
    "kernelspec": {
      "name": "python3",
      "display_name": "Python 3"
    },
    "language_info": {
      "name": "python"
    }
  },
  "cells": [
    {
      "cell_type": "markdown",
      "source": [],
      "metadata": {
        "id": "BGu1IdT1-hbx"
      }
    },
    {
      "cell_type": "code",
      "source": [
        "!pip install control\n",
        "import sympy as sym\n",
        "import numpy as np\n",
        "import matplotlib.pyplot as plt\n",
        "import control as ct"
      ],
      "metadata": {
        "colab": {
          "base_uri": "https://localhost:8080/"
        },
        "id": "JT4T_s7V-uwo",
        "outputId": "ba71e91c-bc1f-42ca-c031-0b8ca00fe39b"
      },
      "execution_count": null,
      "outputs": [
        {
          "output_type": "stream",
          "name": "stdout",
          "text": [
            "Collecting control\n",
            "  Downloading control-0.10.1-py3-none-any.whl.metadata (7.6 kB)\n",
            "Requirement already satisfied: numpy>=1.23 in /usr/local/lib/python3.10/dist-packages (from control) (1.26.4)\n",
            "Requirement already satisfied: scipy>=1.8 in /usr/local/lib/python3.10/dist-packages (from control) (1.13.1)\n",
            "Requirement already satisfied: matplotlib>=3.6 in /usr/local/lib/python3.10/dist-packages (from control) (3.8.0)\n",
            "Requirement already satisfied: contourpy>=1.0.1 in /usr/local/lib/python3.10/dist-packages (from matplotlib>=3.6->control) (1.3.0)\n",
            "Requirement already satisfied: cycler>=0.10 in /usr/local/lib/python3.10/dist-packages (from matplotlib>=3.6->control) (0.12.1)\n",
            "Requirement already satisfied: fonttools>=4.22.0 in /usr/local/lib/python3.10/dist-packages (from matplotlib>=3.6->control) (4.54.1)\n",
            "Requirement already satisfied: kiwisolver>=1.0.1 in /usr/local/lib/python3.10/dist-packages (from matplotlib>=3.6->control) (1.4.7)\n",
            "Requirement already satisfied: packaging>=20.0 in /usr/local/lib/python3.10/dist-packages (from matplotlib>=3.6->control) (24.2)\n",
            "Requirement already satisfied: pillow>=6.2.0 in /usr/local/lib/python3.10/dist-packages (from matplotlib>=3.6->control) (11.0.0)\n",
            "Requirement already satisfied: pyparsing>=2.3.1 in /usr/local/lib/python3.10/dist-packages (from matplotlib>=3.6->control) (3.2.0)\n",
            "Requirement already satisfied: python-dateutil>=2.7 in /usr/local/lib/python3.10/dist-packages (from matplotlib>=3.6->control) (2.8.2)\n",
            "Requirement already satisfied: six>=1.5 in /usr/local/lib/python3.10/dist-packages (from python-dateutil>=2.7->matplotlib>=3.6->control) (1.16.0)\n",
            "Downloading control-0.10.1-py3-none-any.whl (549 kB)\n",
            "\u001b[2K   \u001b[90m━━━━━━━━━━━━━━━━━━━━━━━━━━━━━━━━━━━━━━━━\u001b[0m \u001b[32m549.6/549.6 kB\u001b[0m \u001b[31m6.0 MB/s\u001b[0m eta \u001b[36m0:00:00\u001b[0m\n",
            "\u001b[?25hInstalling collected packages: control\n",
            "Successfully installed control-0.10.1\n"
          ]
        }
      ]
    },
    {
      "cell_type": "markdown",
      "source": [
        "### Circuito 1"
      ],
      "metadata": {
        "id": "Veety3xj-iuQ"
      }
    },
    {
      "cell_type": "code",
      "execution_count": null,
      "metadata": {
        "id": "CxvvkYCw-f_b"
      },
      "outputs": [],
      "source": [
        "Vin, Vo1, Vo2 = sym.symbols('V_{in}, V_{01}, V_{02}')\n",
        "R1, R2, R3, R4, R5 = sym.symbols('R_1, R_2, R_3, R_4, R_5')\n",
        "V1, V2 = sym.symbols('V_{1}, V_{2}')"
      ]
    },
    {
      "cell_type": "code",
      "source": [
        "eq1 = sym.Eq(0, V1/R4 + (V1-Vo1)/R2 + (V1-V2)/R1)\n",
        "eq1"
      ],
      "metadata": {
        "colab": {
          "base_uri": "https://localhost:8080/",
          "height": 54
        },
        "id": "oRvSDHN9LZbQ",
        "outputId": "188a6c45-77bf-4320-b941-5b8275980556"
      },
      "execution_count": null,
      "outputs": [
        {
          "output_type": "execute_result",
          "data": {
            "text/plain": [
              "Eq(0, V_{1}/R_4 + (-V_{01} + V_{1})/R_2 + (V_{1} - V_{2})/R_1)"
            ],
            "text/latex": "$\\displaystyle 0 = \\frac{V_{1}}{R_{4}} + \\frac{- V_{01} + V_{1}}{R_{2}} + \\frac{V_{1} - V_{2}}{R_{1}}$"
          },
          "metadata": {},
          "execution_count": 5
        }
      ]
    },
    {
      "cell_type": "code",
      "source": [
        "eq2 = sym.Eq(0, (Vo1-V1)/R2 + (Vo1-V2)/R5)\n",
        "eq2"
      ],
      "metadata": {
        "colab": {
          "base_uri": "https://localhost:8080/",
          "height": 54
        },
        "id": "B2vB-HDgMGwt",
        "outputId": "9fa15f68-4c0d-4fb8-cc8d-787af322cb1c"
      },
      "execution_count": null,
      "outputs": [
        {
          "output_type": "execute_result",
          "data": {
            "text/plain": [
              "Eq(0, (V_{01} - V_{2})/R_5 + (V_{01} - V_{1})/R_2)"
            ],
            "text/latex": "$\\displaystyle 0 = \\frac{V_{01} - V_{2}}{R_{5}} + \\frac{V_{01} - V_{1}}{R_{2}}$"
          },
          "metadata": {},
          "execution_count": 6
        }
      ]
    },
    {
      "cell_type": "code",
      "source": [
        "eq3 = sym.Eq(0, (V2-V1)/R1 + (V2-Vo1)/R5 + (V2-Vo2)/R3)\n",
        "eq3"
      ],
      "metadata": {
        "colab": {
          "base_uri": "https://localhost:8080/",
          "height": 54
        },
        "id": "GL43gKqVMW1q",
        "outputId": "65a3362e-21e5-4791-c904-67c3b1b64cdc"
      },
      "execution_count": null,
      "outputs": [
        {
          "output_type": "execute_result",
          "data": {
            "text/plain": [
              "Eq(0, (-V_{01} + V_{2})/R_5 + (-V_{02} + V_{2})/R_3 + (-V_{1} + V_{2})/R_1)"
            ],
            "text/latex": "$\\displaystyle 0 = \\frac{- V_{01} + V_{2}}{R_{5}} + \\frac{- V_{02} + V_{2}}{R_{3}} + \\frac{- V_{1} + V_{2}}{R_{1}}$"
          },
          "metadata": {},
          "execution_count": 7
        }
      ]
    },
    {
      "cell_type": "code",
      "source": [
        "eq_vo1 = eq1.subs({R1:1, R2:1, R3:1, R4:1, R5:1})\n",
        "eq_vo1 = sym.solve(eq_vo1, Vo1)\n",
        "eq_vo1[0]"
      ],
      "metadata": {
        "colab": {
          "base_uri": "https://localhost:8080/",
          "height": 38
        },
        "id": "UmZBSmzfMo97",
        "outputId": "c323eb1c-c56c-4a22-a2a2-cf053c30ae7e"
      },
      "execution_count": null,
      "outputs": [
        {
          "output_type": "execute_result",
          "data": {
            "text/plain": [
              "3*V_{1} - V_{2}"
            ],
            "text/latex": "$\\displaystyle 3 V_{1} - V_{2}$"
          },
          "metadata": {},
          "execution_count": 11
        }
      ]
    },
    {
      "cell_type": "code",
      "source": [
        "eq_vo2 = eq3.subs({R1:1, R2:1, R3:1, R4:1, R5:1, Vo1:eq_vo1[0]})\n",
        "eq_vo2 = sym.solve(eq_vo2, Vo2)\n",
        "eq_vo2[0]\n"
      ],
      "metadata": {
        "colab": {
          "base_uri": "https://localhost:8080/",
          "height": 38
        },
        "id": "P08STp55Omzb",
        "outputId": "3620ae29-12de-4251-e4a6-6fad22db7c12"
      },
      "execution_count": null,
      "outputs": [
        {
          "output_type": "execute_result",
          "data": {
            "text/plain": [
              "-4*V_{1} + 4*V_{2}"
            ],
            "text/latex": "$\\displaystyle - 4 V_{1} + 4 V_{2}$"
          },
          "metadata": {},
          "execution_count": 12
        }
      ]
    },
    {
      "cell_type": "markdown",
      "source": [
        "### Circuito 2\n"
      ],
      "metadata": {
        "id": "z-cnbT5V-ltY"
      }
    },
    {
      "cell_type": "code",
      "source": [
        "Vin, Vo = sym.symbols('V_{in}, V_{01}, V_{02}')\n",
        "R1, R2, R3, R4, RL = sym.symbols('R_1, R_2, R_3, R_4, R_L')\n",
        "V_inv, V_ninv = sym.symbols('V_{inv}, V_{ninv}')\n",
        "IL= sym.symbols('I_{L}')"
      ],
      "metadata": {
        "id": "gM8ZGXnU-pr4"
      },
      "execution_count": null,
      "outputs": []
    },
    {
      "cell_type": "code",
      "source": [
        "eq1 = sym.Eq(0 , (V_inv/R4) + (V_inv-Vo)/R2)\n",
        "eq2 = sym.Eq(0 , (V_ninv/RL) + (V_ninv-Vo)/R1 + (V_ninv-Vin)/R3)\n",
        "eq3 = sym.Eq(IL, V_ninv/RL)\n",
        "print(sym.print_latex(eq1))\n",
        "print(sym.print_latex(eq2))\n",
        "print(sym.print_latex(eq3))\n",
        "print(sym.pprint(eq1))\n",
        "print(sym.pprint(eq2))\n",
        "print(sym.pprint(eq3))\n"
      ],
      "metadata": {
        "colab": {
          "base_uri": "https://localhost:8080/"
        },
        "id": "WqaRU43R_fWB",
        "outputId": "518ac383-c131-4f30-e201-2c04626aad65"
      },
      "execution_count": null,
      "outputs": [
        {
          "output_type": "stream",
          "name": "stdout",
          "text": [
            "0 = \\frac{V_{inv}}{R_{4}} + \\frac{- V_{o} + V_{inv}}{R_{2}}\n",
            "None\n",
            "0 = \\frac{V_{ninv}}{R_{L}} + \\frac{- V_{in} + V_{ninv}}{R_{3}} + \\frac{- V_{o} + V_{ninv}}{R_{1}}\n",
            "None\n",
            "I_{L} = \\frac{V_{ninv}}{R_{L}}\n",
            "None\n",
            "    V_{inv}   -Vₒ + V_{inv}\n",
            "0 = ─────── + ─────────────\n",
            "      R₄           R₂      \n",
            "None\n",
            "    V_{ninv}   -V_{in} + V_{ninv}   -Vₒ + V_{ninv}\n",
            "0 = ──────── + ────────────────── + ──────────────\n",
            "      R_L              R₃                 R₁      \n",
            "None\n",
            "        V_{ninv}\n",
            "I_{L} = ────────\n",
            "          R_L   \n",
            "None\n"
          ]
        }
      ]
    },
    {
      "cell_type": "code",
      "source": [
        "eqVo = sym.solve(eq1, Vo)\n",
        "eq2_2 = eq2.subs(Vo, eqVo[0])\n",
        "eq2_2"
      ],
      "metadata": {
        "colab": {
          "base_uri": "https://localhost:8080/",
          "height": 80
        },
        "id": "2Bb8Jh3AA4Jp",
        "outputId": "a7db22f8-bcbe-4351-9cde-1d1dfe182b3f"
      },
      "execution_count": null,
      "outputs": [
        {
          "output_type": "stream",
          "name": "stdout",
          "text": [
            "V_{inv}*(R_2 + R_4)/R_4\n"
          ]
        },
        {
          "output_type": "execute_result",
          "data": {
            "text/plain": [
              "Eq(0, V_{ninv}/R_L + (-V_{in} + V_{ninv})/R_3 + (V_{ninv} - V_{inv}*(R_2 + R_4)/R_4)/R_1)"
            ],
            "text/latex": "$\\displaystyle 0 = \\frac{V_{ninv}}{R_{L}} + \\frac{- V_{in} + V_{ninv}}{R_{3}} + \\frac{V_{ninv} - \\frac{V_{inv} \\left(R_{2} + R_{4}\\right)}{R_{4}}}{R_{1}}$"
          },
          "metadata": {},
          "execution_count": 23
        }
      ]
    },
    {
      "cell_type": "code",
      "source": [
        "eq2_2 = eq2_2.subs(V_inv,V_ninv)\n",
        "eqV_ninv = sym.solve(eq2_2, V_ninv)\n",
        "eqV_ninv[0]"
      ],
      "metadata": {
        "colab": {
          "base_uri": "https://localhost:8080/",
          "height": 54
        },
        "id": "c56TdZSWC9U5",
        "outputId": "a11831ac-07ed-4036-c6f2-f1ccbf4c93c2"
      },
      "execution_count": null,
      "outputs": [
        {
          "output_type": "execute_result",
          "data": {
            "text/plain": [
              "R_1*R_4*R_L*V_{in}/(R_1*R_3*R_4 + R_1*R_4*R_L - R_2*R_3*R_L)"
            ],
            "text/latex": "$\\displaystyle \\frac{R_{1} R_{4} R_{L} V_{in}}{R_{1} R_{3} R_{4} + R_{1} R_{4} R_{L} - R_{2} R_{3} R_{L}}$"
          },
          "metadata": {},
          "execution_count": 26
        }
      ]
    },
    {
      "cell_type": "code",
      "source": [
        "IL_VIN = eq3.subs(V_ninv, eqV_ninv[0])\n",
        "print(sym.print_latex(IL_VIN))"
      ],
      "metadata": {
        "colab": {
          "base_uri": "https://localhost:8080/"
        },
        "id": "0Vz9G5bbDeLB",
        "outputId": "627b4667-d472-4531-bd1b-9c484adbcc3c"
      },
      "execution_count": null,
      "outputs": [
        {
          "output_type": "stream",
          "name": "stdout",
          "text": [
            "I_{L} = \\frac{R_{1} R_{4} V_{in}}{R_{1} R_{3} R_{4} + R_{1} R_{4} R_{L} - R_{2} R_{3} R_{L}}\n",
            "None\n"
          ]
        }
      ]
    },
    {
      "cell_type": "code",
      "source": [
        "eqVo_IL = eq1.subs(V_inv, eqV_ninv[0])\n",
        "eqVo_IL = sym.solve(eqVo_IL, Vo)\n",
        "eqVo_IL = sym.Eq(Vo, eqVo_IL[0])\n",
        "eqVo_IL"
      ],
      "metadata": {
        "colab": {
          "base_uri": "https://localhost:8080/",
          "height": 55
        },
        "id": "mbFAR1deFG0h",
        "outputId": "2e2a15cb-ed36-4018-828b-6086d18e271d"
      },
      "execution_count": null,
      "outputs": [
        {
          "output_type": "execute_result",
          "data": {
            "text/plain": [
              "Eq(V_o, R_1*R_L*V_{in}*(R_2 + R_4)/(R_1*R_3*R_4 + R_1*R_4*R_L - R_2*R_3*R_L))"
            ],
            "text/latex": "$\\displaystyle V_{o} = \\frac{R_{1} R_{L} V_{in} \\left(R_{2} + R_{4}\\right)}{R_{1} R_{3} R_{4} + R_{1} R_{4} R_{L} - R_{2} R_{3} R_{L}}$"
          },
          "metadata": {},
          "execution_count": 35
        }
      ]
    },
    {
      "cell_type": "code",
      "source": [
        "Vcc = sym.symbols('V_{cc}')\n",
        "eqVo_Il_value = eqVo_IL.subs({Vo:Vcc*0.9, R1:100, R2:10e3, R3:1e3, R4:100e3})\n",
        "eqVo_Il_value = sym.solve(eqVo_Il_value, RL)\n",
        "eqVo_Il_value[0]"
      ],
      "metadata": {
        "colab": {
          "base_uri": "https://localhost:8080/",
          "height": 54
        },
        "id": "Smx4Vx0yG5BB",
        "outputId": "a5dabe92-06c0-4cdf-a369-401f7670b394"
      },
      "execution_count": null,
      "outputs": [
        {
          "output_type": "execute_result",
          "data": {
            "text/plain": [
              "818.181818181818*V_{cc}/V_{in}"
            ],
            "text/latex": "$\\displaystyle \\frac{818.181818181818 V_{cc}}{V_{in}}$"
          },
          "metadata": {},
          "execution_count": 39
        }
      ]
    },
    {
      "cell_type": "code",
      "source": [
        "IL_VIN_value = IL_VIN.subs({R1:100, R2:10e3, R3:1e3, R4:100e3})\n",
        "IL_VIN_value"
      ],
      "metadata": {
        "colab": {
          "base_uri": "https://localhost:8080/",
          "height": 38
        },
        "id": "EHmyuxx1JMYa",
        "outputId": "363c5854-5273-442e-e7eb-197f400ea0e0"
      },
      "execution_count": null,
      "outputs": [
        {
          "output_type": "execute_result",
          "data": {
            "text/plain": [
              "Eq(I_{L}, 0.001*V_{in})"
            ],
            "text/latex": "$\\displaystyle I_{L} = 0.001 V_{in}$"
          },
          "metadata": {},
          "execution_count": 41
        }
      ]
    },
    {
      "cell_type": "markdown",
      "source": [
        "### Circuito 3"
      ],
      "metadata": {
        "id": "ntGWTiHIPJrK"
      }
    },
    {
      "cell_type": "code",
      "source": [
        "Vin, Vo1, Vo2 = sym.symbols('V_{in}, V_{01}, V_{02}')\n",
        "R1, R2, R3, R4 = sym.symbols('R_1, R_2, R_3, R_4')\n",
        "V_1n, V_1p, V_2n, V_2p = sym.symbols('V_{1+}, V_{1-}, V_{2+}, V_{2-}')"
      ],
      "metadata": {
        "id": "ehoq5wtnPMKD"
      },
      "execution_count": null,
      "outputs": []
    },
    {
      "cell_type": "markdown",
      "source": [
        "#### Si Vin > 0"
      ],
      "metadata": {
        "id": "4a9nqxpkP387"
      }
    },
    {
      "cell_type": "code",
      "source": [
        "eq1_pos = sym.Eq(0, V_1n/R3 + (V_1n-V_2n)/(R1 + R2))\n",
        "eq1_pos"
      ],
      "metadata": {
        "colab": {
          "base_uri": "https://localhost:8080/",
          "height": 54
        },
        "id": "FK4QfUxpP7sq",
        "outputId": "8f878b6e-0565-4b2a-a186-f1a535e13a52"
      },
      "execution_count": null,
      "outputs": [
        {
          "output_type": "execute_result",
          "data": {
            "text/plain": [
              "Eq(0, (V_{1+} - V_{2+})/(R_1 + R_2) + V_{1+}/R_3)"
            ],
            "text/latex": "$\\displaystyle 0 = \\frac{V_{1+} - V_{2+}}{R_{1} + R_{2}} + \\frac{V_{1+}}{R_{3}}$"
          },
          "metadata": {},
          "execution_count": 4
        }
      ]
    },
    {
      "cell_type": "code",
      "source": [
        "eq2_pos = sym.Eq(0, (V_2n-V_1n)/(R1+R2) + (V_2n-Vo2)/R4)\n",
        "eq2_pos"
      ],
      "metadata": {
        "colab": {
          "base_uri": "https://localhost:8080/",
          "height": 54
        },
        "id": "HwAjwAq3SgK8",
        "outputId": "1ac3f639-6672-4578-f49d-b7a1fcbdf5e0"
      },
      "execution_count": null,
      "outputs": [
        {
          "output_type": "execute_result",
          "data": {
            "text/plain": [
              "Eq(0, (-V_{1+} + V_{2+})/(R_1 + R_2) + (-V_{02} + V_{2+})/R_4)"
            ],
            "text/latex": "$\\displaystyle 0 = \\frac{- V_{1+} + V_{2+}}{R_{1} + R_{2}} + \\frac{- V_{02} + V_{2+}}{R_{4}}$"
          },
          "metadata": {},
          "execution_count": 5
        }
      ]
    },
    {
      "cell_type": "markdown",
      "source": [
        "Aplicación de superposición"
      ],
      "metadata": {
        "id": "Su57rMj_TRZD"
      }
    },
    {
      "cell_type": "code",
      "source": [
        "eq2_pos1 = eq2_pos.subs({V_1n:0, V_2n:Vin, R1:10e3, R2:5e3, R3:10e3, R4:10e3}) #V1- = 0\n",
        "eq_vo2_pos1 = sym.solve(eq2_pos1, Vo2)\n",
        "eq_vo2_pos1[0]"
      ],
      "metadata": {
        "colab": {
          "base_uri": "https://localhost:8080/",
          "height": 38
        },
        "id": "5NzdDZKKS547",
        "outputId": "d71267c0-533b-414f-d57c-617b74d26f65"
      },
      "execution_count": null,
      "outputs": [
        {
          "output_type": "execute_result",
          "data": {
            "text/plain": [
              "1.66666666666667*V_{in}"
            ],
            "text/latex": "$\\displaystyle 1.66666666666667 V_{in}$"
          },
          "metadata": {},
          "execution_count": 12
        }
      ]
    },
    {
      "cell_type": "code",
      "source": [
        "eq2_pos2 = eq2_pos.subs({V_1n:Vin, V_2n:0, R1:10e3, R2:5e3, R3:10e3, R4:10e3}) #V2- = 0\n",
        "eq_vo2_pos2 = sym.solve(eq2_pos2, Vo2)\n",
        "eq_vo2_pos2[0]"
      ],
      "metadata": {
        "colab": {
          "base_uri": "https://localhost:8080/",
          "height": 38
        },
        "id": "sU3vVNIJUTSi",
        "outputId": "012153dd-7afc-45e7-93c7-39d66c237e65"
      },
      "execution_count": null,
      "outputs": [
        {
          "output_type": "execute_result",
          "data": {
            "text/plain": [
              "-0.666666666666667*V_{in}"
            ],
            "text/latex": "$\\displaystyle - 0.666666666666667 V_{in}$"
          },
          "metadata": {},
          "execution_count": 13
        }
      ]
    },
    {
      "cell_type": "code",
      "source": [
        "Vo2_pos = sym.Eq(Vo2, eq_vo2_pos1[0] + eq_vo2_pos2[0])\n",
        "Vo2_pos"
      ],
      "metadata": {
        "colab": {
          "base_uri": "https://localhost:8080/",
          "height": 38
        },
        "id": "NWGs9iMpUoIT",
        "outputId": "b521328e-352a-4002-df6e-b90b94f19ea6"
      },
      "execution_count": null,
      "outputs": [
        {
          "output_type": "execute_result",
          "data": {
            "text/plain": [
              "Eq(V_{02}, 1.0*V_{in})"
            ],
            "text/latex": "$\\displaystyle V_{02} = 1.0 V_{in}$"
          },
          "metadata": {},
          "execution_count": 14
        }
      ]
    },
    {
      "cell_type": "markdown",
      "source": [
        "#### si Vin < 0"
      ],
      "metadata": {
        "id": "steGm6jEVCKb"
      }
    },
    {
      "cell_type": "code",
      "source": [
        "eq1_neg = sym.Eq(0, V_1n/R3 + (V_1n-Vo1)/(R1))\n",
        "eq1_neg"
      ],
      "metadata": {
        "colab": {
          "base_uri": "https://localhost:8080/",
          "height": 54
        },
        "id": "RY2Q6Y5cVFFD",
        "outputId": "13c207f4-ad78-4908-edcf-87c52af0b7c1"
      },
      "execution_count": null,
      "outputs": [
        {
          "output_type": "execute_result",
          "data": {
            "text/plain": [
              "Eq(0, V_{1+}/R_3 + (-V_{01} + V_{1+})/R_1)"
            ],
            "text/latex": "$\\displaystyle 0 = \\frac{V_{1+}}{R_{3}} + \\frac{- V_{01} + V_{1+}}{R_{1}}$"
          },
          "metadata": {},
          "execution_count": 20
        }
      ]
    },
    {
      "cell_type": "code",
      "source": [
        "eq2_neg = sym.Eq(0, (V_2n-Vo1)/(R2) + (V_2n-Vo2)/R4)\n",
        "eq2_neg"
      ],
      "metadata": {
        "colab": {
          "base_uri": "https://localhost:8080/",
          "height": 54
        },
        "id": "L8MoWpqrVekT",
        "outputId": "805bf62f-1f47-45a5-fac1-1b95b5b58f2e"
      },
      "execution_count": null,
      "outputs": [
        {
          "output_type": "execute_result",
          "data": {
            "text/plain": [
              "Eq(0, (-V_{02} + V_{2+})/R_4 + (-V_{01} + V_{2+})/R_2)"
            ],
            "text/latex": "$\\displaystyle 0 = \\frac{- V_{02} + V_{2+}}{R_{4}} + \\frac{- V_{01} + V_{2+}}{R_{2}}$"
          },
          "metadata": {},
          "execution_count": 21
        }
      ]
    },
    {
      "cell_type": "markdown",
      "source": [
        "Aplicación de Superposición"
      ],
      "metadata": {
        "id": "AgAPhYXFVp8M"
      }
    },
    {
      "cell_type": "code",
      "source": [
        "eq2_neg1 = eq2_neg.subs({Vo1:0, V_2n:Vin, R1:10e3, R2:5e3, R3:10e3, R4:10e3}) #Vo1 = 0\n",
        "eq_vo2_neg1 = sym.solve(eq2_neg1, Vo2)\n",
        "eq_vo2_neg1[0]"
      ],
      "metadata": {
        "colab": {
          "base_uri": "https://localhost:8080/",
          "height": 38
        },
        "id": "1x2hBc5wVsQa",
        "outputId": "675805b1-084a-4d87-f0aa-aa38ad8d1584"
      },
      "execution_count": null,
      "outputs": [
        {
          "output_type": "execute_result",
          "data": {
            "text/plain": [
              "3.0*V_{in}"
            ],
            "text/latex": "$\\displaystyle 3.0 V_{in}$"
          },
          "metadata": {},
          "execution_count": 30
        }
      ]
    },
    {
      "cell_type": "code",
      "source": [
        "eq_Vo1 = sym.solve(eq1_neg.subs(V_1n, Vin), Vo1)\n",
        "\n",
        "eq2_neg2 = eq2_neg.subs({Vo1:eq_Vo1[0], V_2n:0}) #V2- = 0\n",
        "eq2_neg2 = eq2_neg2.subs({R1:10e3, R2:5e3, R3:10e3, R4:10e3})\n",
        "eq2_neg2\n",
        "eq_vo2_neg2 = sym.solve(eq2_neg2, Vo2)\n",
        "eq_vo2_neg2[0]"
      ],
      "metadata": {
        "colab": {
          "base_uri": "https://localhost:8080/",
          "height": 38
        },
        "id": "vW9Kr7sDV__b",
        "outputId": "4f322ff8-a8a8-482d-d1a3-c7e01da7ff2f"
      },
      "execution_count": null,
      "outputs": [
        {
          "output_type": "execute_result",
          "data": {
            "text/plain": [
              "-4.0*V_{in}"
            ],
            "text/latex": "$\\displaystyle - 4.0 V_{in}$"
          },
          "metadata": {},
          "execution_count": 42
        }
      ]
    },
    {
      "cell_type": "code",
      "source": [
        "Vo2_neg = sym.Eq(Vo2, eq_vo2_neg1[0] + eq_vo2_neg2[0])\n",
        "Vo2_neg"
      ],
      "metadata": {
        "colab": {
          "base_uri": "https://localhost:8080/",
          "height": 38
        },
        "id": "GStX9vZuYpdr",
        "outputId": "d105a246-797e-465f-8aa3-11c5772d87bd"
      },
      "execution_count": null,
      "outputs": [
        {
          "output_type": "execute_result",
          "data": {
            "text/plain": [
              "Eq(V_{02}, -1.0*V_{in})"
            ],
            "text/latex": "$\\displaystyle V_{02} = - 1.0 V_{in}$"
          },
          "metadata": {},
          "execution_count": 43
        }
      ]
    },
    {
      "cell_type": "markdown",
      "source": [
        "### Circuito 4"
      ],
      "metadata": {
        "id": "0Yptp6nmY4Hj"
      }
    },
    {
      "cell_type": "code",
      "source": [
        "Vin, Vref, Vo, Vp, Vn = sym.symbols('V_{in}, V_{ref}, V_{0}, V_{+}, V_{-}')\n",
        "R1, R2, R3, R4 = sym.symbols('R_1, R_2, R_3, R_4')"
      ],
      "metadata": {
        "id": "sqkg4NLCY7LP"
      },
      "execution_count": null,
      "outputs": []
    },
    {
      "cell_type": "code",
      "source": [
        "V1n = sym.Eq(Vn, (Vin*R2)/(R1+R2))\n",
        "V1p = sym.Eq(Vp, (Vo*R3)/(R3+R4) + (Vref*R4)/(R3+R4))"
      ],
      "metadata": {
        "id": "hN6M4Az6Rh7Y"
      },
      "execution_count": null,
      "outputs": []
    }
  ]
}